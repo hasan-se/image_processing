{
 "cells": [
  {
   "cell_type": "code",
   "execution_count": 1,
   "metadata": {},
   "outputs": [],
   "source": [
    "%matplotlib inline \n",
    "import numpy as np\n",
    "import matplotlib.pyplot as plt"
   ]
  },
  {
   "cell_type": "code",
   "execution_count": 2,
   "metadata": {},
   "outputs": [],
   "source": [
    "data_path = \"C:/Users/TheSesli/\"\n",
    "train_data = np.loadtxt(data_path + \"mnist_train.csv\", delimiter=\",\")\n",
    "                        \n",
    "test_data = np.loadtxt(data_path + \"mnist_test.csv\", delimiter=\",\")"
   ]
  },
  {
   "cell_type": "code",
   "execution_count": 3,
   "metadata": {},
   "outputs": [],
   "source": [
    "def get_my_mean_and_std(k=0,l=0,m=10000):\n",
    "        s=0\n",
    "        t=0\n",
    "        for i in range(m):\n",
    "            if(train_data[i,0]==k):\n",
    "                s=s+1\n",
    "                t=t+train_data[i,l+1]\n",
    "        mean_1=t/s\n",
    "\n",
    "        s,t=0,0\n",
    "        for i in range(m):\n",
    "            if(train_data[i,0]==k):\n",
    "                s=s+1\n",
    "                diff_1=train_data[i,l+1]-mean_1\n",
    "                t=t+diff_1*diff_1\n",
    "        std_1=np.sqrt(t/(s-1))\n",
    "        return mean_1,std_1"
   ]
  },
  {
   "cell_type": "code",
   "execution_count": 4,
   "metadata": {},
   "outputs": [],
   "source": [
    "import math\n",
    "def my_pdf_1(x,mu=0.0,sigma=1.0):\n",
    "    eps=np.finfo(float).eps\n",
    "    x=float(x-mu)/(sigma+eps)\n",
    "    return math.exp(-x*x/2.0)/math.sqrt(2.0*math.pi)/(sigma+eps)"
   ]
  },
  {
   "cell_type": "code",
   "execution_count": 5,
   "metadata": {},
   "outputs": [
    {
     "data": {
      "text/plain": [
       "(10000, 785)"
      ]
     },
     "execution_count": 5,
     "metadata": {},
     "output_type": "execute_result"
    }
   ],
   "source": [
    "test_data.shape"
   ]
  },
  {
   "cell_type": "code",
   "execution_count": 6,
   "metadata": {},
   "outputs": [
    {
     "data": {
      "text/plain": [
       "(1.2972493345164153, 14.870650743271637)"
      ]
     },
     "execution_count": 6,
     "metadata": {},
     "output_type": "execute_result"
    }
   ],
   "source": [
    "c=1\n",
    "l=100\n",
    "get_my_mean_and_std(c,l)"
   ]
  },
  {
   "cell_type": "code",
   "execution_count": 7,
   "metadata": {},
   "outputs": [
    {
     "data": {
      "text/plain": [
       "1.1059921901052853e-92"
      ]
     },
     "execution_count": 7,
     "metadata": {},
     "output_type": "execute_result"
    }
   ],
   "source": [
    "#test_data[100,:] #test_data nın 100.satırından sonrası\n",
    "test_value=45\n",
    "my_pdf_1(test_value,4.0,2.0)"
   ]
  },
  {
   "cell_type": "code",
   "execution_count": 8,
   "metadata": {},
   "outputs": [
    {
     "data": {
      "image/png": "[encoded data removed]",
      "text/plain": [
       "<Figure size 432x288 with 1 Axes>"
      ]
     },
     "metadata": {
      "needs_background": "light"
     },
     "output_type": "display_data"
    }
   ],
   "source": [
    "my_test_im=plt.imread('test.jpg')\n",
    "plt.imshow(my_test_im,cmap='gray')\n",
    "plt.show()"
   ]
  },
  {
   "cell_type": "code",
   "execution_count": 9,
   "metadata": {},
   "outputs": [
    {
     "data": {
      "text/plain": [
       "(28, 28)"
      ]
     },
     "execution_count": 9,
     "metadata": {},
     "output_type": "execute_result"
    }
   ],
   "source": [
    "my_test_im.shape\n",
    "im2=my_test_im[:,:,0]\n",
    "im2.shape #3 boyutlu yapmak için"
   ]
  },
  {
   "cell_type": "code",
   "execution_count": 10,
   "metadata": {},
   "outputs": [
    {
     "data": {
      "text/plain": [
       "(1, 784)"
      ]
     },
     "execution_count": 10,
     "metadata": {},
     "output_type": "execute_result"
    }
   ],
   "source": [
    "im3=im2.reshape(1,784)\n",
    "im3.shape"
   ]
  },
  {
   "cell_type": "code",
   "execution_count": 11,
   "metadata": {},
   "outputs": [
    {
     "name": "stdout",
     "output_type": "stream",
     "text": [
      "3.77302024125228e+16\n",
      "5.749364177146335e+16\n",
      "2.8746820885731652e+16\n",
      "3.5933526107164564e+16\n",
      "3.5933526107164564e+16\n",
      "4.1323555023239256e+16\n",
      "2.8746820885731652e+16\n",
      "3.4136849801806336e+16\n",
      "3.5933526107164564e+16\n",
      "3.77302024125228e+16\n"
     ]
    }
   ],
   "source": [
    "for i in range (10): \n",
    "    pdf_t=0\n",
    "    for j in range (784):\n",
    "        x=im3[0,j] #tek satir pixeller içeren im3 ün bütün pixel değerleri\n",
    "        m1,std1=get_my_mean_and_std(i,j) #i.satırdaki ortalama ve varyans'ı yazar\n",
    "        pdf_deger=my_pdf_1(x,m1,std1)\n",
    "        pdf_t=pdf_t+pdf_deger\n",
    "    print(pdf_t)"
   ]
  },
  {
   "cell_type": "code",
   "execution_count": 12,
   "metadata": {},
   "outputs": [
    {
     "name": "stdout",
     "output_type": "stream",
     "text": [
      "5.749364177146335e+16\n"
     ]
    }
   ],
   "source": [
    "list_1=[]\n",
    "for i in range (10): \n",
    "    pdf_t=0\n",
    "    for j in range (784):\n",
    "        x=im3[0,j] #tek satir pixeller içeren im3 ün bütün pixel değerleri\n",
    "        m1,std1=get_my_mean_and_std(i,j) #i.satırdaki ortalama ve varyans'ı yazar\n",
    "        pdf_deger=my_pdf_1(x,m1,std1)\n",
    "        pdf_t=pdf_t+pdf_deger\n",
    "\n",
    "    list_1.append(pdf_t)\n",
    "print(max(list_1))"
   ]
  },
  {
   "cell_type": "code",
   "execution_count": null,
   "metadata": {},
   "outputs": [],
   "source": []
  }
 ],
 "metadata": {
  "kernelspec": {
   "display_name": "Python 3",
   "language": "python",
   "name": "python3"
  },
  "language_info": {
   "codemirror_mode": {
    "name": "ipython",
    "version": 3
   },
   "file_extension": ".py",
   "mimetype": "text/x-python",
   "name": "python",
   "nbconvert_exporter": "python",
   "pygments_lexer": "ipython3",
   "version": "3.7.1"
  }
 },
 "nbformat": 4,
 "nbformat_minor": 2
}
